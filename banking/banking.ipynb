{
 "cells": [
  {
   "cell_type": "code",
   "execution_count": 2,
   "metadata": {},
   "outputs": [],
   "source": [
    "import pandas as pd\n",
    "import numpy as np"
   ]
  },
  {
   "attachments": {},
   "cell_type": "markdown",
   "metadata": {},
   "source": [
    "# 1. Data Understanding and Preparation:"
   ]
  },
  {
   "attachments": {},
   "cell_type": "markdown",
   "metadata": {},
   "source": [
    "### A. Read both the Datasets ‘Data1’ and ‘Data 2’ as DataFrame and store them into two separate variables."
   ]
  },
  {
   "cell_type": "code",
   "execution_count": 3,
   "metadata": {},
   "outputs": [],
   "source": [
    "# load the datasets into pandas dataframes\n",
    "data1 = pd.read_csv('Data1.csv')\n",
    "data2 = pd.read_csv('Data2.csv')"
   ]
  },
  {
   "cell_type": "code",
   "execution_count": 7,
   "metadata": {},
   "outputs": [
    {
     "data": {
      "text/html": [
       "<div>\n",
       "<style scoped>\n",
       "    .dataframe tbody tr th:only-of-type {\n",
       "        vertical-align: middle;\n",
       "    }\n",
       "\n",
       "    .dataframe tbody tr th {\n",
       "        vertical-align: top;\n",
       "    }\n",
       "\n",
       "    .dataframe thead th {\n",
       "        text-align: right;\n",
       "    }\n",
       "</style>\n",
       "<table border=\"1\" class=\"dataframe\">\n",
       "  <thead>\n",
       "    <tr style=\"text-align: right;\">\n",
       "      <th></th>\n",
       "      <th>ID</th>\n",
       "      <th>Mortgage</th>\n",
       "      <th>Security</th>\n",
       "      <th>FixedDepositAccount</th>\n",
       "      <th>InternetBanking</th>\n",
       "      <th>CreditCard</th>\n",
       "      <th>LoanOnCard</th>\n",
       "    </tr>\n",
       "  </thead>\n",
       "  <tbody>\n",
       "    <tr>\n",
       "      <th>0</th>\n",
       "      <td>1</td>\n",
       "      <td>0</td>\n",
       "      <td>1</td>\n",
       "      <td>0</td>\n",
       "      <td>0</td>\n",
       "      <td>0</td>\n",
       "      <td>NaN</td>\n",
       "    </tr>\n",
       "    <tr>\n",
       "      <th>1</th>\n",
       "      <td>2</td>\n",
       "      <td>0</td>\n",
       "      <td>1</td>\n",
       "      <td>0</td>\n",
       "      <td>0</td>\n",
       "      <td>0</td>\n",
       "      <td>NaN</td>\n",
       "    </tr>\n",
       "    <tr>\n",
       "      <th>2</th>\n",
       "      <td>3</td>\n",
       "      <td>0</td>\n",
       "      <td>0</td>\n",
       "      <td>0</td>\n",
       "      <td>0</td>\n",
       "      <td>0</td>\n",
       "      <td>NaN</td>\n",
       "    </tr>\n",
       "  </tbody>\n",
       "</table>\n",
       "</div>"
      ],
      "text/plain": [
       "   ID  Mortgage  Security  FixedDepositAccount  InternetBanking  CreditCard  \\\n",
       "0   1         0         1                    0                0           0   \n",
       "1   2         0         1                    0                0           0   \n",
       "2   3         0         0                    0                0           0   \n",
       "\n",
       "   LoanOnCard  \n",
       "0         NaN  \n",
       "1         NaN  \n",
       "2         NaN  "
      ]
     },
     "execution_count": 7,
     "metadata": {},
     "output_type": "execute_result"
    }
   ],
   "source": [
    "data1.head(3)\n",
    "data2.head(3)"
   ]
  },
  {
   "attachments": {},
   "cell_type": "markdown",
   "metadata": {},
   "source": [
    "### B. Print shape and Column Names and DataTypes of both the Dataframes."
   ]
  },
  {
   "cell_type": "code",
   "execution_count": 12,
   "metadata": {},
   "outputs": [
    {
     "name": "stdout",
     "output_type": "stream",
     "text": [
      "Data1 shape: (5000, 8)\n",
      "----------------------- \n",
      "\n",
      "Data1 columns: Index(['ID', 'Age', 'CustomerSince', 'HighestSpend', 'ZipCode', 'HiddenScore',\n",
      "       'MonthlyAverageSpend', 'Level'],\n",
      "      dtype='object')\n",
      "----------------------- \n",
      "\n",
      "Data1 data types: ID                       int64\n",
      "Age                      int64\n",
      "CustomerSince            int64\n",
      "HighestSpend             int64\n",
      "ZipCode                  int64\n",
      "HiddenScore              int64\n",
      "MonthlyAverageSpend    float64\n",
      "Level                    int64\n",
      "dtype: object\n"
     ]
    }
   ],
   "source": [
    "# print the dimensions and column names of both dataframes\n",
    "print(\"Data1 shape:\", data1.shape)\n",
    "print(\"----------------------- \\n\")\n",
    "print(\"Data1 columns:\", data1.columns)\n",
    "print(\"----------------------- \\n\")\n",
    "print(\"Data1 data types:\", data1.dtypes)"
   ]
  },
  {
   "cell_type": "code",
   "execution_count": 11,
   "metadata": {},
   "outputs": [
    {
     "name": "stdout",
     "output_type": "stream",
     "text": [
      "Data2 shape: (5000, 7)\n",
      "----------------------- \n",
      "\n",
      "Data2 columns: Index(['ID', 'Mortgage', 'Security', 'FixedDepositAccount', 'InternetBanking',\n",
      "       'CreditCard', 'LoanOnCard'],\n",
      "      dtype='object')\n",
      "----------------------- \n",
      "\n",
      "Data2 data types: ID                       int64\n",
      "Mortgage                 int64\n",
      "Security                 int64\n",
      "FixedDepositAccount      int64\n",
      "InternetBanking          int64\n",
      "CreditCard               int64\n",
      "LoanOnCard             float64\n",
      "dtype: object\n"
     ]
    }
   ],
   "source": [
    "print(\"Data2 shape:\", data2.shape)\n",
    "print(\"----------------------- \\n\")\n",
    "print(\"Data2 columns:\", data2.columns)\n",
    "print(\"----------------------- \\n\")\n",
    "print(\"Data2 data types:\", data2.dtypes)"
   ]
  },
  {
   "attachments": {},
   "cell_type": "markdown",
   "metadata": {},
   "source": [
    "### C. Merge both the Dataframes on ‘ID’ feature to form a single DataFrame"
   ]
  },
  {
   "cell_type": "code",
   "execution_count": 38,
   "metadata": {},
   "outputs": [
    {
     "name": "stdout",
     "output_type": "stream",
     "text": [
      "   ID  Age  CustomerSince  HighestSpend  ZipCode  HiddenScore  \\\n",
      "0   1   25              1            49    91107            4   \n",
      "1   2   45             19            34    90089            3   \n",
      "2   3   39             15            11    94720            1   \n",
      "3   4   35              9           100    94112            1   \n",
      "4   5   35              8            45    91330            4   \n",
      "\n",
      "   MonthlyAverageSpend  Level  Mortgage  Security  FixedDepositAccount  \\\n",
      "0                  1.6      1         0         1                    0   \n",
      "1                  1.5      1         0         1                    0   \n",
      "2                  1.0      1         0         0                    0   \n",
      "3                  2.7      2         0         0                    0   \n",
      "4                  1.0      2         0         0                    0   \n",
      "\n",
      "   InternetBanking  CreditCard  LoanOnCard  \n",
      "0                0           0         NaN  \n",
      "1                0           0         NaN  \n",
      "2                0           0         NaN  \n",
      "3                0           0         NaN  \n",
      "4                0           1         NaN  \n"
     ]
    }
   ],
   "source": [
    "# merge both dataframes on the 'ID' feature\n",
    "merged_data = pd.merge(data1, data2, on='ID')\n",
    "\n",
    "# verify the merged dataframe\n",
    "print(merged_data.head())"
   ]
  },
  {
   "attachments": {},
   "cell_type": "markdown",
   "metadata": {},
   "source": [
    "### D. Change Datatype of below features to ‘Object’ ‘CreditCard’, ‘InternetBanking’, ‘FixedDepositAccount’, ‘Security’, ‘Level’, ‘HiddenScore’."
   ]
  },
  {
   "cell_type": "code",
   "execution_count": 39,
   "metadata": {},
   "outputs": [],
   "source": [
    "# convert selected columns to 'object' data type\n",
    "cols_to_convert = ['CreditCard', 'InternetBanking', 'FixedDepositAccount', 'Security', 'Level', 'HiddenScore']\n",
    "merged_data[cols_to_convert] = merged_data[cols_to_convert].astype('object')"
   ]
  },
  {
   "cell_type": "code",
   "execution_count": 40,
   "metadata": {},
   "outputs": [
    {
     "data": {
      "text/plain": [
       "ID                       int64\n",
       "Age                      int64\n",
       "CustomerSince            int64\n",
       "HighestSpend             int64\n",
       "ZipCode                  int64\n",
       "HiddenScore             object\n",
       "MonthlyAverageSpend    float64\n",
       "Level                   object\n",
       "Mortgage                 int64\n",
       "Security                object\n",
       "FixedDepositAccount     object\n",
       "InternetBanking         object\n",
       "CreditCard              object\n",
       "LoanOnCard             float64\n",
       "dtype: object"
      ]
     },
     "execution_count": 40,
     "metadata": {},
     "output_type": "execute_result"
    }
   ],
   "source": [
    "merged_data.dtypes"
   ]
  },
  {
   "cell_type": "code",
   "execution_count": 41,
   "metadata": {},
   "outputs": [
    {
     "data": {
      "text/html": [
       "<div>\n",
       "<style scoped>\n",
       "    .dataframe tbody tr th:only-of-type {\n",
       "        vertical-align: middle;\n",
       "    }\n",
       "\n",
       "    .dataframe tbody tr th {\n",
       "        vertical-align: top;\n",
       "    }\n",
       "\n",
       "    .dataframe thead th {\n",
       "        text-align: right;\n",
       "    }\n",
       "</style>\n",
       "<table border=\"1\" class=\"dataframe\">\n",
       "  <thead>\n",
       "    <tr style=\"text-align: right;\">\n",
       "      <th></th>\n",
       "      <th>ID</th>\n",
       "      <th>Age</th>\n",
       "      <th>CustomerSince</th>\n",
       "      <th>HighestSpend</th>\n",
       "      <th>ZipCode</th>\n",
       "      <th>HiddenScore</th>\n",
       "      <th>MonthlyAverageSpend</th>\n",
       "      <th>Level</th>\n",
       "      <th>Mortgage</th>\n",
       "      <th>Security</th>\n",
       "      <th>FixedDepositAccount</th>\n",
       "      <th>InternetBanking</th>\n",
       "      <th>CreditCard</th>\n",
       "      <th>LoanOnCard</th>\n",
       "    </tr>\n",
       "  </thead>\n",
       "  <tbody>\n",
       "    <tr>\n",
       "      <th>0</th>\n",
       "      <td>1</td>\n",
       "      <td>25</td>\n",
       "      <td>1</td>\n",
       "      <td>49</td>\n",
       "      <td>91107</td>\n",
       "      <td>4</td>\n",
       "      <td>1.6</td>\n",
       "      <td>1</td>\n",
       "      <td>0</td>\n",
       "      <td>1</td>\n",
       "      <td>0</td>\n",
       "      <td>0</td>\n",
       "      <td>0</td>\n",
       "      <td>NaN</td>\n",
       "    </tr>\n",
       "    <tr>\n",
       "      <th>1</th>\n",
       "      <td>2</td>\n",
       "      <td>45</td>\n",
       "      <td>19</td>\n",
       "      <td>34</td>\n",
       "      <td>90089</td>\n",
       "      <td>3</td>\n",
       "      <td>1.5</td>\n",
       "      <td>1</td>\n",
       "      <td>0</td>\n",
       "      <td>1</td>\n",
       "      <td>0</td>\n",
       "      <td>0</td>\n",
       "      <td>0</td>\n",
       "      <td>NaN</td>\n",
       "    </tr>\n",
       "    <tr>\n",
       "      <th>2</th>\n",
       "      <td>3</td>\n",
       "      <td>39</td>\n",
       "      <td>15</td>\n",
       "      <td>11</td>\n",
       "      <td>94720</td>\n",
       "      <td>1</td>\n",
       "      <td>1.0</td>\n",
       "      <td>1</td>\n",
       "      <td>0</td>\n",
       "      <td>0</td>\n",
       "      <td>0</td>\n",
       "      <td>0</td>\n",
       "      <td>0</td>\n",
       "      <td>NaN</td>\n",
       "    </tr>\n",
       "    <tr>\n",
       "      <th>3</th>\n",
       "      <td>4</td>\n",
       "      <td>35</td>\n",
       "      <td>9</td>\n",
       "      <td>100</td>\n",
       "      <td>94112</td>\n",
       "      <td>1</td>\n",
       "      <td>2.7</td>\n",
       "      <td>2</td>\n",
       "      <td>0</td>\n",
       "      <td>0</td>\n",
       "      <td>0</td>\n",
       "      <td>0</td>\n",
       "      <td>0</td>\n",
       "      <td>NaN</td>\n",
       "    </tr>\n",
       "    <tr>\n",
       "      <th>4</th>\n",
       "      <td>5</td>\n",
       "      <td>35</td>\n",
       "      <td>8</td>\n",
       "      <td>45</td>\n",
       "      <td>91330</td>\n",
       "      <td>4</td>\n",
       "      <td>1.0</td>\n",
       "      <td>2</td>\n",
       "      <td>0</td>\n",
       "      <td>0</td>\n",
       "      <td>0</td>\n",
       "      <td>0</td>\n",
       "      <td>1</td>\n",
       "      <td>NaN</td>\n",
       "    </tr>\n",
       "    <tr>\n",
       "      <th>5</th>\n",
       "      <td>6</td>\n",
       "      <td>37</td>\n",
       "      <td>13</td>\n",
       "      <td>29</td>\n",
       "      <td>92121</td>\n",
       "      <td>4</td>\n",
       "      <td>0.4</td>\n",
       "      <td>2</td>\n",
       "      <td>155</td>\n",
       "      <td>0</td>\n",
       "      <td>0</td>\n",
       "      <td>1</td>\n",
       "      <td>0</td>\n",
       "      <td>NaN</td>\n",
       "    </tr>\n",
       "    <tr>\n",
       "      <th>6</th>\n",
       "      <td>7</td>\n",
       "      <td>53</td>\n",
       "      <td>27</td>\n",
       "      <td>72</td>\n",
       "      <td>91711</td>\n",
       "      <td>2</td>\n",
       "      <td>1.5</td>\n",
       "      <td>2</td>\n",
       "      <td>0</td>\n",
       "      <td>0</td>\n",
       "      <td>0</td>\n",
       "      <td>1</td>\n",
       "      <td>0</td>\n",
       "      <td>NaN</td>\n",
       "    </tr>\n",
       "    <tr>\n",
       "      <th>7</th>\n",
       "      <td>8</td>\n",
       "      <td>50</td>\n",
       "      <td>24</td>\n",
       "      <td>22</td>\n",
       "      <td>93943</td>\n",
       "      <td>1</td>\n",
       "      <td>0.3</td>\n",
       "      <td>3</td>\n",
       "      <td>0</td>\n",
       "      <td>0</td>\n",
       "      <td>0</td>\n",
       "      <td>0</td>\n",
       "      <td>1</td>\n",
       "      <td>NaN</td>\n",
       "    </tr>\n",
       "    <tr>\n",
       "      <th>8</th>\n",
       "      <td>9</td>\n",
       "      <td>35</td>\n",
       "      <td>10</td>\n",
       "      <td>81</td>\n",
       "      <td>90089</td>\n",
       "      <td>3</td>\n",
       "      <td>0.6</td>\n",
       "      <td>2</td>\n",
       "      <td>104</td>\n",
       "      <td>0</td>\n",
       "      <td>0</td>\n",
       "      <td>1</td>\n",
       "      <td>0</td>\n",
       "      <td>NaN</td>\n",
       "    </tr>\n",
       "    <tr>\n",
       "      <th>9</th>\n",
       "      <td>10</td>\n",
       "      <td>34</td>\n",
       "      <td>9</td>\n",
       "      <td>180</td>\n",
       "      <td>93023</td>\n",
       "      <td>1</td>\n",
       "      <td>8.9</td>\n",
       "      <td>3</td>\n",
       "      <td>0</td>\n",
       "      <td>0</td>\n",
       "      <td>0</td>\n",
       "      <td>0</td>\n",
       "      <td>0</td>\n",
       "      <td>1.0</td>\n",
       "    </tr>\n",
       "  </tbody>\n",
       "</table>\n",
       "</div>"
      ],
      "text/plain": [
       "   ID  Age  CustomerSince  HighestSpend  ZipCode HiddenScore  \\\n",
       "0   1   25              1            49    91107           4   \n",
       "1   2   45             19            34    90089           3   \n",
       "2   3   39             15            11    94720           1   \n",
       "3   4   35              9           100    94112           1   \n",
       "4   5   35              8            45    91330           4   \n",
       "5   6   37             13            29    92121           4   \n",
       "6   7   53             27            72    91711           2   \n",
       "7   8   50             24            22    93943           1   \n",
       "8   9   35             10            81    90089           3   \n",
       "9  10   34              9           180    93023           1   \n",
       "\n",
       "   MonthlyAverageSpend Level  Mortgage Security FixedDepositAccount  \\\n",
       "0                  1.6     1         0        1                   0   \n",
       "1                  1.5     1         0        1                   0   \n",
       "2                  1.0     1         0        0                   0   \n",
       "3                  2.7     2         0        0                   0   \n",
       "4                  1.0     2         0        0                   0   \n",
       "5                  0.4     2       155        0                   0   \n",
       "6                  1.5     2         0        0                   0   \n",
       "7                  0.3     3         0        0                   0   \n",
       "8                  0.6     2       104        0                   0   \n",
       "9                  8.9     3         0        0                   0   \n",
       "\n",
       "  InternetBanking CreditCard  LoanOnCard  \n",
       "0               0          0         NaN  \n",
       "1               0          0         NaN  \n",
       "2               0          0         NaN  \n",
       "3               0          0         NaN  \n",
       "4               0          1         NaN  \n",
       "5               1          0         NaN  \n",
       "6               1          0         NaN  \n",
       "7               0          1         NaN  \n",
       "8               1          0         NaN  \n",
       "9               0          0         1.0  "
      ]
     },
     "execution_count": 41,
     "metadata": {},
     "output_type": "execute_result"
    }
   ],
   "source": [
    "merged_data.head(10)"
   ]
  },
  {
   "attachments": {},
   "cell_type": "markdown",
   "metadata": {},
   "source": [
    "# 2. Data Exploration and Analysis:"
   ]
  },
  {
   "attachments": {},
   "cell_type": "markdown",
   "metadata": {},
   "source": [
    "### A. Visualize distribution of Target variable ‘LoanOnCard’ and clearly share insights (5Marks)"
   ]
  },
  {
   "cell_type": "code",
   "execution_count": 18,
   "metadata": {},
   "outputs": [],
   "source": [
    "import matplotlib.pyplot as plt"
   ]
  },
  {
   "cell_type": "code",
   "execution_count": 55,
   "metadata": {},
   "outputs": [
    {
     "data": {
      "text/plain": [
       "(5000,)"
      ]
     },
     "execution_count": 55,
     "metadata": {},
     "output_type": "execute_result"
    }
   ],
   "source": [
    "merged_data['LoanOnCard'].shape"
   ]
  },
  {
   "cell_type": "code",
   "execution_count": 54,
   "metadata": {},
   "outputs": [
    {
     "name": "stdout",
     "output_type": "stream",
     "text": [
      "There are total of 20 null records in LoanOnCard column\n"
     ]
    }
   ],
   "source": [
    "null_count = merged_data['LoanOnCard'].isnull().sum()\n",
    "print(f\"There are total of {null_count} null records in LoanOnCard column\")"
   ]
  },
  {
   "cell_type": "code",
   "execution_count": 53,
   "metadata": {},
   "outputs": [
    {
     "name": "stdout",
     "output_type": "stream",
     "text": [
      "480 users have taken loan\n",
      "4500 users haven't taken loan\n"
     ]
    }
   ],
   "source": [
    "no_loan = len(merged_data[merged_data['LoanOnCard']==0])\n",
    "loan = len(merged_data[merged_data['LoanOnCard']==1])\n",
    "print(f\"{loan} users have taken loan\")\n",
    "print(f\"{no_loan} users haven't taken loan\")\n"
   ]
  },
  {
   "cell_type": "code",
   "execution_count": 19,
   "metadata": {},
   "outputs": [
    {
     "data": {
      "image/png": "[encoded data removed]",
      "text/plain": [
       "<Figure size 432x288 with 1 Axes>"
      ]
     },
     "metadata": {
      "needs_background": "light"
     },
     "output_type": "display_data"
    }
   ],
   "source": [
    "plt.hist(merged_data['LoanOnCard'], bins=10)\n",
    "plt.xlabel('LoanOnCard')\n",
    "plt.ylabel('Frequency')\n",
    "plt.show()"
   ]
  },
  {
   "attachments": {},
   "cell_type": "markdown",
   "metadata": {},
   "source": [
    "### Insights\n",
    "* There are a total of 5000 observations\n",
    "* 480 users have taken loan\n",
    "* 4500 users haven't taken loan\n",
    "* 'LoanOnCard' column has 20 null records"
   ]
  },
  {
   "attachments": {},
   "cell_type": "markdown",
   "metadata": {},
   "source": [
    "### B. Check the percentage of missing values and impute if required"
   ]
  },
  {
   "cell_type": "code",
   "execution_count": 62,
   "metadata": {},
   "outputs": [
    {
     "data": {
      "text/plain": [
       "ID                      0\n",
       "Age                     0\n",
       "CustomerSince           0\n",
       "HighestSpend            0\n",
       "ZipCode                 0\n",
       "HiddenScore             0\n",
       "MonthlyAverageSpend     0\n",
       "Level                   0\n",
       "Mortgage                0\n",
       "Security                0\n",
       "FixedDepositAccount     0\n",
       "InternetBanking         0\n",
       "CreditCard              0\n",
       "LoanOnCard             20\n",
       "dtype: int64"
      ]
     },
     "execution_count": 62,
     "metadata": {},
     "output_type": "execute_result"
    }
   ],
   "source": [
    "merged_data.isna().sum()"
   ]
  },
  {
   "cell_type": "code",
   "execution_count": 64,
   "metadata": {},
   "outputs": [
    {
     "name": "stdout",
     "output_type": "stream",
     "text": [
      "The percentage to missing values is 0.4%\n"
     ]
    }
   ],
   "source": [
    "missing_val = (20/5000)*100\n",
    "print(f\"The percentage to missing values is {missing_val}%\")"
   ]
  },
  {
   "attachments": {},
   "cell_type": "markdown",
   "metadata": {},
   "source": [
    "### This is a really small percentage of missing values. Moreoever, trying to fill mean, min, max or median values for Loan on card does not make logical sense. Therefore, the rows with missing values are dopped"
   ]
  },
  {
   "cell_type": "code",
   "execution_count": 72,
   "metadata": {},
   "outputs": [
    {
     "data": {
      "text/plain": [
       "ID                     0\n",
       "Age                    0\n",
       "CustomerSince          0\n",
       "HighestSpend           0\n",
       "ZipCode                0\n",
       "HiddenScore            0\n",
       "MonthlyAverageSpend    0\n",
       "Level                  0\n",
       "Mortgage               0\n",
       "Security               0\n",
       "FixedDepositAccount    0\n",
       "InternetBanking        0\n",
       "CreditCard             0\n",
       "LoanOnCard             0\n",
       "dtype: int64"
      ]
     },
     "execution_count": 72,
     "metadata": {},
     "output_type": "execute_result"
    }
   ],
   "source": [
    "merged_data.dropna(inplace=True)\n",
    "merged_data.isna().sum()"
   ]
  },
  {
   "attachments": {},
   "cell_type": "markdown",
   "metadata": {},
   "source": [
    "### C. Check for unexpected values in each categorical variable and impute with best suitable value"
   ]
  },
  {
   "cell_type": "code",
   "execution_count": 77,
   "metadata": {},
   "outputs": [
    {
     "data": {
      "text/html": [
       "<div>\n",
       "<style scoped>\n",
       "    .dataframe tbody tr th:only-of-type {\n",
       "        vertical-align: middle;\n",
       "    }\n",
       "\n",
       "    .dataframe tbody tr th {\n",
       "        vertical-align: top;\n",
       "    }\n",
       "\n",
       "    .dataframe thead th {\n",
       "        text-align: right;\n",
       "    }\n",
       "</style>\n",
       "<table border=\"1\" class=\"dataframe\">\n",
       "  <thead>\n",
       "    <tr style=\"text-align: right;\">\n",
       "      <th></th>\n",
       "      <th>HiddenScore</th>\n",
       "      <th>Level</th>\n",
       "      <th>Security</th>\n",
       "      <th>FixedDepositAccount</th>\n",
       "      <th>InternetBanking</th>\n",
       "      <th>CreditCard</th>\n",
       "    </tr>\n",
       "  </thead>\n",
       "  <tbody>\n",
       "    <tr>\n",
       "      <th>count</th>\n",
       "      <td>4980</td>\n",
       "      <td>4980</td>\n",
       "      <td>4980</td>\n",
       "      <td>4980</td>\n",
       "      <td>4980</td>\n",
       "      <td>4980</td>\n",
       "    </tr>\n",
       "    <tr>\n",
       "      <th>unique</th>\n",
       "      <td>4</td>\n",
       "      <td>3</td>\n",
       "      <td>2</td>\n",
       "      <td>2</td>\n",
       "      <td>2</td>\n",
       "      <td>2</td>\n",
       "    </tr>\n",
       "    <tr>\n",
       "      <th>top</th>\n",
       "      <td>1</td>\n",
       "      <td>1</td>\n",
       "      <td>0</td>\n",
       "      <td>0</td>\n",
       "      <td>1</td>\n",
       "      <td>0</td>\n",
       "    </tr>\n",
       "    <tr>\n",
       "      <th>freq</th>\n",
       "      <td>1466</td>\n",
       "      <td>2089</td>\n",
       "      <td>4460</td>\n",
       "      <td>4678</td>\n",
       "      <td>2974</td>\n",
       "      <td>3514</td>\n",
       "    </tr>\n",
       "  </tbody>\n",
       "</table>\n",
       "</div>"
      ],
      "text/plain": [
       "        HiddenScore  Level  Security  FixedDepositAccount  InternetBanking  \\\n",
       "count          4980   4980      4980                 4980             4980   \n",
       "unique            4      3         2                    2                2   \n",
       "top               1      1         0                    0                1   \n",
       "freq           1466   2089      4460                 4678             2974   \n",
       "\n",
       "        CreditCard  \n",
       "count         4980  \n",
       "unique           2  \n",
       "top              0  \n",
       "freq          3514  "
      ]
     },
     "execution_count": 77,
     "metadata": {},
     "output_type": "execute_result"
    }
   ],
   "source": [
    "temporary = merged_data.select_dtypes(include='object')\n",
    "temporary.describe()"
   ]
  },
  {
   "cell_type": "code",
   "execution_count": 80,
   "metadata": {},
   "outputs": [
    {
     "data": {
      "text/plain": [
       "array([1, 4, 3, 2], dtype=object)"
      ]
     },
     "execution_count": 80,
     "metadata": {},
     "output_type": "execute_result"
    }
   ],
   "source": [
    "temporary['HiddenScore'].unique()"
   ]
  },
  {
   "cell_type": "code",
   "execution_count": 81,
   "metadata": {},
   "outputs": [
    {
     "data": {
      "text/plain": [
       "array([3, 2, 1], dtype=object)"
      ]
     },
     "execution_count": 81,
     "metadata": {},
     "output_type": "execute_result"
    }
   ],
   "source": [
    "temporary['Level'].unique()\n"
   ]
  },
  {
   "cell_type": "code",
   "execution_count": 82,
   "metadata": {},
   "outputs": [
    {
     "data": {
      "text/plain": [
       "array([0, 1], dtype=object)"
      ]
     },
     "execution_count": 82,
     "metadata": {},
     "output_type": "execute_result"
    }
   ],
   "source": [
    "temporary['Security'].unique()"
   ]
  },
  {
   "attachments": {},
   "cell_type": "markdown",
   "metadata": {},
   "source": [
    "### Inference: nothing unsual was found in the categorical vairables"
   ]
  },
  {
   "attachments": {},
   "cell_type": "markdown",
   "metadata": {},
   "source": [
    "# 3. DataPreparationandmodelbuilding:"
   ]
  },
  {
   "attachments": {},
   "cell_type": "markdown",
   "metadata": {},
   "source": [
    "### A. Split data into X and Y [Recommended to drop ID & ZipCode. LoanOnCard is target Variable]\n",
    "### B. Split data into train and test. Keep 25% data reserved for testing\n",
    "### C. Train a Supervised Learning Classification base model - Logistic Regression D. Print evaluation metrics for the model and clearly share insights"
   ]
  },
  {
   "cell_type": "code",
   "execution_count": 83,
   "metadata": {},
   "outputs": [],
   "source": [
    "# Dropping ID and ZipCode columns\n",
    "final_data = merged_data.drop(['ID', 'ZipCode'], axis=1)\n",
    "\n",
    "# Separating X and Y\n",
    "X = final_data.drop('LoanOnCard', axis=1)\n",
    "Y = final_data['LoanOnCard']"
   ]
  },
  {
   "cell_type": "code",
   "execution_count": 97,
   "metadata": {},
   "outputs": [],
   "source": [
    "from sklearn.model_selection import train_test_split\n",
    "from sklearn.linear_model import LogisticRegression\n",
    "from sklearn.metrics import precision_score"
   ]
  },
  {
   "cell_type": "code",
   "execution_count": 87,
   "metadata": {},
   "outputs": [],
   "source": [
    "X_train, X_test, y_train, y_test = train_test_split(X, Y, test_size=0.25, random_state=42)"
   ]
  },
  {
   "cell_type": "code",
   "execution_count": 93,
   "metadata": {},
   "outputs": [],
   "source": [
    "logreg = LogisticRegression(max_iter=1000)"
   ]
  },
  {
   "cell_type": "code",
   "execution_count": 94,
   "metadata": {},
   "outputs": [
    {
     "name": "stderr",
     "output_type": "stream",
     "text": [
      "/opt/homebrew/anaconda3/lib/python3.9/site-packages/sklearn/linear_model/_logistic.py:763: ConvergenceWarning: lbfgs failed to converge (status=1):\n",
      "STOP: TOTAL NO. of ITERATIONS REACHED LIMIT.\n",
      "\n",
      "Increase the number of iterations (max_iter) or scale the data as shown in:\n",
      "    https://scikit-learn.org/stable/modules/preprocessing.html\n",
      "Please also refer to the documentation for alternative solver options:\n",
      "    https://scikit-learn.org/stable/modules/linear_model.html#logistic-regression\n",
      "  n_iter_i = _check_optimize_result(\n"
     ]
    },
    {
     "data": {
      "text/plain": [
       "LogisticRegression(max_iter=1000)"
      ]
     },
     "execution_count": 94,
     "metadata": {},
     "output_type": "execute_result"
    }
   ],
   "source": [
    "# fit the model on the training data\n",
    "logreg.fit(X_train, y_train)"
   ]
  },
  {
   "cell_type": "code",
   "execution_count": 102,
   "metadata": {},
   "outputs": [
    {
     "name": "stdout",
     "output_type": "stream",
     "text": [
      "The accuracy score of the model is 94.699%\n"
     ]
    }
   ],
   "source": [
    "accuracy_score = logreg.score(X_test, y_test)\n",
    "print(f\"The accuracy score of the model is {round(accuracy_score*100, 3)}%\")"
   ]
  },
  {
   "cell_type": "code",
   "execution_count": 103,
   "metadata": {},
   "outputs": [
    {
     "name": "stdout",
     "output_type": "stream",
     "text": [
      "The precision score of the model is 77.419%\n"
     ]
    }
   ],
   "source": [
    "y_pred = logreg.predict(X_test)\n",
    "precision = precision_score(y_test, y_pred)\n",
    "print(f\"The precision score of the model is {round(precision*100, 3)}%\")"
   ]
  },
  {
   "attachments": {},
   "cell_type": "markdown",
   "metadata": {},
   "source": [
    "### Model Evaluation\n",
    "* The accuracy score of the model is 94.699%\n",
    "* The precision score of the model is 77.419%"
   ]
  },
  {
   "cell_type": "code",
   "execution_count": null,
   "metadata": {},
   "outputs": [],
   "source": []
  }
 ],
 "metadata": {
  "kernelspec": {
   "display_name": "base",
   "language": "python",
   "name": "python3"
  },
  "language_info": {
   "codemirror_mode": {
    "name": "ipython",
    "version": 3
   },
   "file_extension": ".py",
   "mimetype": "text/x-python",
   "name": "python",
   "nbconvert_exporter": "python",
   "pygments_lexer": "ipython3",
   "version": "3.9.7"
  },
  "orig_nbformat": 4
 },
 "nbformat": 4,
 "nbformat_minor": 2
}
